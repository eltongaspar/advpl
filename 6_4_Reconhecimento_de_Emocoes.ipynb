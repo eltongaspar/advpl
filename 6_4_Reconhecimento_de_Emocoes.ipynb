{
  "nbformat": 4,
  "nbformat_minor": 0,
  "metadata": {
    "colab": {
      "provenance": [],
      "authorship_tag": "ABX9TyNCgUhJR7jbUvD7RNJf6NB8",
      "include_colab_link": true
    },
    "kernelspec": {
      "name": "python3",
      "display_name": "Python 3"
    },
    "language_info": {
      "name": "python"
    }
  },
  "cells": [
    {
      "cell_type": "markdown",
      "metadata": {
        "id": "view-in-github",
        "colab_type": "text"
      },
      "source": [
        "<a href=\"https://colab.research.google.com/github/eltongaspar/advpl/blob/Advpl/6_4_Reconhecimento_de_Emocoes.ipynb\" target=\"_parent\"><img src=\"https://colab.research.google.com/assets/colab-badge.svg\" alt=\"Open In Colab\"/></a>"
      ]
    },
    {
      "cell_type": "code",
      "execution_count": 13,
      "metadata": {
        "colab": {
          "base_uri": "https://localhost:8080/"
        },
        "id": "DOfilEfVvpCH",
        "outputId": "a2ece0ec-1f5c-48f1-9817-8348a923b1ad"
      },
      "outputs": [
        {
          "output_type": "stream",
          "name": "stdout",
          "text": [
            "Colab only includes TensorFlow 2.x; %tensorflow_version has no effect.\n",
            "Drive already mounted at /content/gdrive; to attempt to forcibly remount, call drive.mount(\"/content/gdrive\", force_remount=True).\n",
            "G:/Meu Drive/Classroom/Inteligência Artificial aplicada à Visão Computacional Turma 99 - 6  01 02 a 31 05 2024/6-4/fer2013.zip\n",
            "False\n",
            "/usr/local/lib/python3.10/dist-packages/gdown/cli.py:138: FutureWarning: Option `--id` was deprecated in version 4.3.1 and will be removed in 5.0. You don't need to pass it anymore to use a file ID.\n",
            "  warnings.warn(\n",
            "Failed to retrieve file url:\n",
            "\n",
            "\tCannot retrieve the public link of the file. You may need to change\n",
            "\tthe permission to 'Anyone with the link', or have had many accesses.\n",
            "\n",
            "You may still be able to access the file from the browser:\n",
            "\n",
            "\thttps://drive.google.com/uc?id=file_id\n",
            "\n",
            "but Gdown can't. Please check connections and permissions.\n"
          ]
        }
      ],
      "source": [
        "#Estudo de caso\n",
        "#Reconhecimento de Emoções\n",
        "\n",
        "#Importando as bibliotecas\n",
        "import cv2\n",
        "import numpy as np\n",
        "import pandas as pd\n",
        "import matplotlib.pyplot as plt\n",
        "from google.colab.patches import cv2_imshow\n",
        "import zipfile\n",
        "\n",
        "cv2.__version__\n",
        "\n",
        "%tensorflow_version 2.x\n",
        "import tensorflow\n",
        "tensorflow.__version__\n",
        "\n",
        "#Conectando com o Drive e acessando os arquivos\n",
        "# Conectando o Colab ao Google Drive\n",
        "from google.colab import drive\n",
        "drive.mount('/content/gdrive')\n",
        "\n",
        "# Realize o dowload da pasta Material_complementar_reconhecimento_emocoes.zip do Google Sala de Aula e transfira-a para o seu Google Drive\n",
        "# Localize o caminho da pasta no menu Arquivos, no menu lateral esquerdo\n",
        "path = \"G:/Meu Drive/Classroom/Inteligência Artificial aplicada à Visão Computacional Turma 99 - 6  01 02 a 31 05 2024/6-4/fer2013.zip\"\n",
        "\n",
        "print(path)\n",
        "\n",
        "import os\n",
        "file_exists = os.path.isfile(path)\n",
        "print(file_exists)\n",
        "\n",
        "!gdown --id \"file_id\" -O \"/content/gdrive/MyDrive/Classroom/Inteligência Artificial aplicada à Visão Computacional Turma 99 - 6  01 02 a 31 05 2024/6-4/fer2013.zip\"\n",
        "#zip_object = zipfile.ZipFile(file=path, mode=\"r\")\n",
        "#zip_object.extractall(\"./\")\n"
      ]
    }
  ]
}